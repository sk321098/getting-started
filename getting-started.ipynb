{
 "cells": [
  {
   "cell_type": "code",
   "execution_count": 42,
   "id": "1d0e55ab",
   "metadata": {},
   "outputs": [
    {
     "name": "stdout",
     "output_type": "stream",
     "text": [
      "hello rob. How have you been?\n",
      "hello norman. How have you been?\n",
      "hello Sarah. How have you been?\n",
      "0.2857142857142857\n",
      "1.4063604240282686\n",
      "3042\n"
     ]
    }
   ],
   "source": [
    "#print('hello world')\n",
    "#name = 'stan'\n",
    "#greeting = 'hello ' + name + '. How have you been?'\n",
    "#print(greeting)\n",
    "def greet(name):\n",
    "    greeting = 'hello ' + name + '. How have you been?'\n",
    "    print(greeting)\n",
    "greet('rob')\n",
    "greet('norman')\n",
    "greet('Sarah')\n",
    "\n",
    "def divide(x, y): \n",
    "    print(x/y)\n",
    "\n",
    "def multiply(x, y):\n",
    "    print(x*y)\n",
    "    \n",
    "divide(22, 77)\n",
    "divide(398, 283)\n",
    "multiply(234, 13)\n"
   ]
  }
 ],
 "metadata": {
  "kernelspec": {
   "display_name": "Python 3 (ipykernel)",
   "language": "python",
   "name": "python3"
  },
  "language_info": {
   "codemirror_mode": {
    "name": "ipython",
    "version": 3
   },
   "file_extension": ".py",
   "mimetype": "text/x-python",
   "name": "python",
   "nbconvert_exporter": "python",
   "pygments_lexer": "ipython3",
   "version": "3.9.12"
  }
 },
 "nbformat": 4,
 "nbformat_minor": 5
}
